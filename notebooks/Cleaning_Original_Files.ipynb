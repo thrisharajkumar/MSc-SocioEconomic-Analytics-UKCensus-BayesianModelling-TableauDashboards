{
 "cells": [
  {
   "cell_type": "markdown",
   "id": "79b8f7df",
   "metadata": {},
   "source": [
    "## 2011 Files Cleaning in order \n",
    "- education \n",
    "- economic\n",
    "- employment \n",
    "- ethinicity\n",
    "- immigration\n",
    "- occupation\n",
    "- travel"
   ]
  },
  {
   "cell_type": "code",
   "execution_count": null,
   "id": "cc306579",
   "metadata": {},
   "outputs": [
    {
     "name": "stdout",
     "output_type": "stream",
     "text": [
      "Saved as cleaned_education_2011.csv\n"
     ]
    }
   ],
   "source": [
    "import pandas as pd\n",
    "file_path = r\"C:\\Users\\pc\\Desktop\\Visual_Analytics_Coursework_Final\\Original_files_2011\\education_2011.csv\" \n",
    "df = pd.read_csv(file_path, encoding=\"ISO-8859-1\")\n",
    "\n",
    "#basic header and footer removal was done manually\n",
    "# Merging the columns :  columns B, C and D into a single 'AREA NAME' column because the files\n",
    "#  had the same LAD names in different columns\n",
    "df.insert(1, 'AREA NAME', df.iloc[:, 1].fillna(df.iloc[:, 2]).fillna(df.iloc[:, 3]))\n",
    "\n",
    "# Remove the original columns (now merged)\n",
    "df.drop(df.columns[[2, 3, 4]], axis=1, inplace=True)\n",
    "# Dropping the completely empty rows\n",
    "df.dropna(how='all', inplace=True)\n",
    "\n",
    "df.to_csv(r\"C:\\Users\\pc\\Desktop\\Visual_Analytics_Coursework_Final\\Clean_files_2011\\cleaned_education_2011.csv\", index=False)\n",
    "\n",
    "print(\"Saved as cleaned_education_2011.csv\")"
   ]
  },
  {
   "cell_type": "markdown",
   "id": "0e557e44",
   "metadata": {},
   "source": [
    "Same cleaning followed to all the 2011 files now\n",
    "### economic 2011 "
   ]
  },
  {
   "cell_type": "code",
   "execution_count": 12,
   "id": "f826f0ae",
   "metadata": {},
   "outputs": [
    {
     "name": "stdout",
     "output_type": "stream",
     "text": [
      "Saved as 'cleaned_economic_2011.csv'\n"
     ]
    }
   ],
   "source": [
    "file_path = r\"C:\\Users\\pc\\Desktop\\Visual_Analytics_Coursework_Final\\Original_files_2011\\economic_2011.csv\" \n",
    "df = pd.read_csv(file_path, encoding=\"ISO-8859-1\")\n",
    "\n",
    "df.insert(1, 'AREA NAME', df.iloc[:, 1].fillna(df.iloc[:, 2]).fillna(df.iloc[:, 3]))\n",
    "df.drop(df.columns[[2, 3, 4]], axis=1, inplace=True)\n",
    "df.dropna(how='all', inplace=True)\n",
    "\n",
    "df.to_csv(r\"C:\\Users\\pc\\Desktop\\Visual_Analytics_Coursework_Final\\Clean_files_2011\\cleaned_economic_2011.csv\", index=False)\n",
    "\n",
    "print(\"Saved as 'cleaned_economic_2011.csv'\")"
   ]
  },
  {
   "cell_type": "markdown",
   "id": "acb1387a",
   "metadata": {},
   "source": [
    "### employment 2011 "
   ]
  },
  {
   "cell_type": "code",
   "execution_count": 13,
   "id": "bf5361ec",
   "metadata": {},
   "outputs": [
    {
     "name": "stdout",
     "output_type": "stream",
     "text": [
      "saved as 'cleaned_employment_2011.csv'\n"
     ]
    }
   ],
   "source": [
    "file_path = r\"C:\\Users\\pc\\Desktop\\Visual_Analytics_Coursework_Final\\Original_files_2011\\employment_2011.csv\" \n",
    "df = pd.read_csv(file_path, encoding=\"ISO-8859-1\")\n",
    "\n",
    "df.insert(1, 'AREA NAME', df.iloc[:, 1].fillna(df.iloc[:, 2]).fillna(df.iloc[:, 3]))\n",
    "df.drop(df.columns[[2, 3, 4]], axis=1, inplace=True)\n",
    "df.dropna(how='all', inplace=True)\n",
    "\n",
    "df.to_csv(r\"C:\\Users\\pc\\Desktop\\Visual_Analytics_Coursework_Final\\Clean_files_2011\\cleaned_employment_2011.csv\", index=False)\n",
    "\n",
    "print(\"saved as 'cleaned_employment_2011.csv'\")"
   ]
  },
  {
   "cell_type": "markdown",
   "id": "b7895eaa",
   "metadata": {},
   "source": [
    "### Occupation 2011"
   ]
  },
  {
   "cell_type": "code",
   "execution_count": 14,
   "id": "a4197401",
   "metadata": {},
   "outputs": [
    {
     "name": "stdout",
     "output_type": "stream",
     "text": [
      "saved as 'cleaned_occupation_2011.csv'\n"
     ]
    }
   ],
   "source": [
    "file_path = r\"C:\\Users\\pc\\Desktop\\Visual_Analytics_Coursework_Final\\Original_files_2011\\occupation_2011.csv\" \n",
    "df = pd.read_csv(file_path, encoding=\"ISO-8859-1\")\n",
    "\n",
    "df.insert(1, 'AREA NAME', df.iloc[:, 1].fillna(df.iloc[:, 2]).fillna(df.iloc[:, 3]))\n",
    "df.drop(df.columns[[2, 3, 4]], axis=1, inplace=True)\n",
    "df.dropna(how='all', inplace=True)\n",
    "\n",
    "df.to_csv(r\"C:\\Users\\pc\\Desktop\\Visual_Analytics_Coursework_Final\\Clean_files_2011\\cleaned_occupation_2011.csv\", index=False)\n",
    "\n",
    "print(\"saved as 'cleaned_occupation_2011.csv'\")"
   ]
  },
  {
   "cell_type": "markdown",
   "id": "0a4ab7d6",
   "metadata": {},
   "source": [
    "### travel 2011"
   ]
  },
  {
   "cell_type": "code",
   "execution_count": 15,
   "id": "45395cfc",
   "metadata": {},
   "outputs": [
    {
     "name": "stdout",
     "output_type": "stream",
     "text": [
      "saved as 'cleaned_travel_2011.csv'\n"
     ]
    }
   ],
   "source": [
    "file_path = r\"C:\\Users\\pc\\Desktop\\Visual_Analytics_Coursework_Final\\Original_files_2011\\travel_2011.csv\" \n",
    "df = pd.read_csv(file_path, encoding=\"ISO-8859-1\")\n",
    "\n",
    "df.insert(1, 'AREA NAME', df.iloc[:, 1].fillna(df.iloc[:, 2]).fillna(df.iloc[:, 3]))\n",
    "df.drop(df.columns[[2, 3, 4]], axis=1, inplace=True)\n",
    "df.dropna(how='all', inplace=True)\n",
    "\n",
    "df.to_csv(r\"C:\\Users\\pc\\Desktop\\Visual_Analytics_Coursework_Final\\Clean_files_2011\\cleaned_travel_2011.csv\", index=False)\n",
    "\n",
    "print(\"saved as 'cleaned_travel_2011.csv'\")\n"
   ]
  },
  {
   "cell_type": "markdown",
   "id": "f52a1ad2",
   "metadata": {},
   "source": [
    "### immigration 2011 data"
   ]
  },
  {
   "cell_type": "code",
   "execution_count": 16,
   "id": "84d68140",
   "metadata": {},
   "outputs": [
    {
     "name": "stdout",
     "output_type": "stream",
     "text": [
      "saved as 'cleaned_immigration_2011.csv'\n"
     ]
    }
   ],
   "source": [
    "file_path = r\"C:\\Users\\pc\\Desktop\\Visual_Analytics_Coursework_Final\\Original_files_2011\\immigration_2011.csv\" \n",
    "df = pd.read_csv(file_path, encoding=\"ISO-8859-1\")\n",
    "\n",
    "df.insert(1, 'AREA NAME', df.iloc[:, 1].fillna(df.iloc[:, 2]).fillna(df.iloc[:, 3]))\n",
    "df.drop(df.columns[[2, 3, 4]], axis=1, inplace=True)\n",
    "df.dropna(how='all', inplace=True)\n",
    "\n",
    "df.to_csv(r\"C:\\Users\\pc\\Desktop\\Visual_Analytics_Coursework_Final\\Clean_files_2011\\cleaned_immigration_2011.csv\", index=False)\n",
    "\n",
    "print(\"saved as 'cleaned_immigration_2011.csv'\")"
   ]
  },
  {
   "cell_type": "markdown",
   "id": "1bdd9aec",
   "metadata": {},
   "source": [
    "### Ethinicity Cleaning data 2011"
   ]
  },
  {
   "cell_type": "code",
   "execution_count": 17,
   "id": "adccbf2a",
   "metadata": {},
   "outputs": [
    {
     "name": "stdout",
     "output_type": "stream",
     "text": [
      "Cleaned file saved as: ethnicity_2011_structured.csv\n"
     ]
    },
    {
     "name": "stderr",
     "output_type": "stream",
     "text": [
      "C:\\Users\\pc\\AppData\\Local\\Temp\\ipykernel_4932\\785130028.py:8: FutureWarning: Series.fillna with 'method' is deprecated and will raise in a future version. Use obj.ffill() or obj.bfill() instead.\n",
      "  df[\"ETHNIC GROUP\"] = df[\"ETHNIC GROUP\"].fillna(method=\"ffill\")\n"
     ]
    }
   ],
   "source": [
    "df = pd.read_csv(r\"C:\\Users\\pc\\Desktop\\Visual_Analytics_Coursework_Final\\Original_files_2011\\ethnicity_2011.csv\", encoding=\"ISO-8859-1\")\n",
    "\n",
    "# creating a new ETHNIC GROUP' column\n",
    "# An ethnic group row has a value in 'Country Names' and the rest of the row is empty or NaN\n",
    "df[\"ETHNIC GROUP\"] = df[\"Country Names\"].where(df.iloc[:, 1:].isnull().all(axis=1))\n",
    "\n",
    "# Ffill the ETHNIC GROUP for all rows underneath for the same ethinic group\n",
    "df[\"ETHNIC GROUP\"] = df[\"ETHNIC GROUP\"].fillna(method=\"ffill\")\n",
    "df_cleaned = df.dropna(how=\"all\")\n",
    "\n",
    "# Remove ethnic group header rows\n",
    "# only rhe country wise names retained \n",
    "df_cleaned = df_cleaned[df_cleaned[\"Country Names\"].str.contains(\"Total: Country of birth|^[ ]+\", na=False)]\n",
    "\n",
    "# Reordering the columns which are necessary \n",
    "ordered_columns = [\"ETHNIC GROUP\", \"Country Names\", \"Total: Age\", \"Age 16\", \"Age 17\", \n",
    "                   \"Age 18 to 19\", \"Age 20 to 24\", \"Age 25 to 29\", \"Age 30 to 35\"]\n",
    "df_cleaned = df_cleaned[ordered_columns]\n",
    "\n",
    "for col in ordered_columns[2:]:\n",
    "    df_cleaned[col] = df_cleaned[col].astype(str).str.replace(\",\", \"\").astype(float)\n",
    "\n",
    "df_cleaned.to_csv(r\"C:\\Users\\pc\\Desktop\\Visual_Analytics_Coursework_Final\\Clean_files_2011\\ethnicity_2011_structured.csv\", index=False)\n",
    "\n",
    "print(\"Cleaned file saved as: ethnicity_2011_structured.csv\")"
   ]
  }
 ],
 "metadata": {
  "kernelspec": {
   "display_name": "text_analytics",
   "language": "python",
   "name": "python3"
  },
  "language_info": {
   "codemirror_mode": {
    "name": "ipython",
    "version": 3
   },
   "file_extension": ".py",
   "mimetype": "text/x-python",
   "name": "python",
   "nbconvert_exporter": "python",
   "pygments_lexer": "ipython3",
   "version": "3.11.11"
  }
 },
 "nbformat": 4,
 "nbformat_minor": 5
}
